{
 "cells": [
  {
   "cell_type": "code",
   "execution_count": 59,
   "metadata": {},
   "outputs": [
    {
     "name": "stdout",
     "output_type": "stream",
     "text": [
      "4945  records extracted.\n",
      "1000  records extracted.\n",
      "3618  records extracted.\n"
     ]
    }
   ],
   "source": [
    "import os\n",
    "# import glob\n",
    "\n",
    "data_dir = \"data\"\n",
    "\n",
    "file_dirs = glob.glob(os.path.join(data_dir, \"*.txt\"))\n",
    "\n",
    "def filter_file_n(type_l):\n",
    "    return list(filter(lambda x: type_l in x, file_dirs))\n",
    "\n",
    "def read_files(filen_l):\n",
    "    data = []\n",
    "    for filen in filen_l:\n",
    "        with open(filen, 'r') as filen_w:\n",
    "            data.extend(filen_w.read().splitlines())\n",
    "    print(len(data), \" records extracted.\")\n",
    "    return data\n",
    "\n",
    "data = {}\n",
    "for dtype in [\"name\", \"uuid\", \"email\"]:\n",
    "    data[dtype] = read_files(filter_file_n(dtype))\n"
   ]
  },
  {
   "cell_type": "code",
   "execution_count": 19,
   "metadata": {},
   "outputs": [],
   "source": [
    "import random\n",
    "from itertools import chain\n",
    "import numpy as np\n",
    "import string"
   ]
  },
  {
   "cell_type": "code",
   "execution_count": 64,
   "metadata": {},
   "outputs": [
    {
     "name": "stdout",
     "output_type": "stream",
     "text": [
      "mutated data length: 7236\n",
      "mutated data length: 2000\n"
     ]
    }
   ],
   "source": [
    "def mutate_data(datal, append_ori=True, shuffle=True, static_special=True):\n",
    "    specialChars = set(string.punctuation)\n",
    "    datal_n = []\n",
    "    n_mutations = 20\n",
    "    alphabet = sorted(set(chain(*datal)))\n",
    "    for datap in datal:\n",
    "        datap_c = list(datap)\n",
    "        for _ in range(n_mutations):\n",
    "            if (random.random() > 0.5):\n",
    "                m_ind = random.randint(0, len(datap_c)-1)\n",
    "                if static_special and (datap_c[m_ind] not in specialChars):\n",
    "                    datap_c[m_ind] = alphabet[(alphabet.index(datap_c[m_ind]) + random.randint(0, len(alphabet))) % len(alphabet)]\n",
    "                    ind = alphabet.index(datap_c[m_ind])\n",
    "                    while alphabet[ind] in specialChars:\n",
    "                        ind+=1\n",
    "                    datap_c[m_ind] = alphabet[ind]\n",
    "                        \n",
    "        datal_n.append(\"\".join(datap_c))\n",
    "    if append_ori:\n",
    "        datal_n.extend(datal)\n",
    "    if shuffle:\n",
    "        np.random.shuffle(datal_n)\n",
    "    print(\"mutated data length: %d\"%(len(datal_n)))\n",
    "    return datal_n\n",
    "\n",
    "exclude_list = set([\"name\"])\n",
    "mutated_data = {k: mutate_data(v) for k, v in data.items() if k not in exclude_list}\n",
    "mutated_data.update({k: data[k] for k in exclude_list})\n"
   ]
  },
  {
   "cell_type": "code",
   "execution_count": 65,
   "metadata": {},
   "outputs": [
    {
     "name": "stdout",
     "output_type": "stream",
     "text": [
      "14181\n",
      "14181\n"
     ]
    }
   ],
   "source": [
    "def generate_labeled_data(data):\n",
    "    X_data = []\n",
    "    y_data = []\n",
    "    class_labels = {}\n",
    "    class_count = 0\n",
    "    for k, v in data.items():\n",
    "        if k not in class_labels:\n",
    "            class_labels[k] = class_count\n",
    "            class_count += 1\n",
    "        y_data.extend([class_labels[k] for _ in v])\n",
    "        X_data.extend(v)\n",
    "    return X_data, y_data, class_labels\n",
    "X_data, y_data, class_labels = generate_labeled_data(mutated_data)\n",
    "print(len(X_data))\n",
    "print(len(y_data))"
   ]
  },
  {
   "cell_type": "code",
   "execution_count": 66,
   "metadata": {},
   "outputs": [
    {
     "name": "stdout",
     "output_type": "stream",
     "text": [
      "{'email': 1, 'uuid': 0, 'name': 2}\n",
      "['ae96c944-3945-4075-8c6d-c5259501533e', '0182dc3c-3e24-11e8-9eb6-5692498b6459', 'webindia123.com', 'xaip2delicm9o4.bom', 'mail2gina.com'] [0, 0, 1, 1, 1]\n"
     ]
    }
   ],
   "source": [
    "print(class_labels)\n",
    "offset = 1998\n",
    "print(X_data[offset:offset+5], y_data[offset:offset+5])"
   ]
  },
  {
   "cell_type": "code",
   "execution_count": 53,
   "metadata": {},
   "outputs": [],
   "source": [
    "%matplotlib inline\n",
    "import matplotlib.pyplot as plt"
   ]
  },
  {
   "cell_type": "code",
   "execution_count": 67,
   "metadata": {},
   "outputs": [
    {
     "data": {
      "text/plain": [
       "(array([ 2000.,     0.,     0.,     0.,     0.,  7236.,     0.,     0.,\n",
       "            0.,  4945.]),\n",
       " array([ 0. ,  0.2,  0.4,  0.6,  0.8,  1. ,  1.2,  1.4,  1.6,  1.8,  2. ]),\n",
       " <a list of 10 Patch objects>)"
      ]
     },
     "execution_count": 67,
     "metadata": {},
     "output_type": "execute_result"
    },
    {
     "data": {
      "image/png": "[encoded data removed]",
      "text/plain": [
       "<matplotlib.figure.Figure at 0x7feb953c6cc0>"
      ]
     },
     "metadata": {},
     "output_type": "display_data"
    }
   ],
   "source": [
    "plt.hist(y_data)"
   ]
  },
  {
   "cell_type": "code",
   "execution_count": 70,
   "metadata": {},
   "outputs": [],
   "source": [
    "import tensorflow as tf\n",
    "import tensorflow.contrib.keras as keras"
   ]
  },
  {
   "cell_type": "code",
   "execution_count": 73,
   "metadata": {},
   "outputs": [
    {
     "name": "stdout",
     "output_type": "stream",
     "text": [
      "{'X': 65, '9': 11, '2': 9, 'e': 1, 'E': 48, 'w': 33, 'g': 30, '7': 26, 'h': 28, 'B': 47, '1': 12, 'A': 40, 'Z': 60, 'S': 44, 'O': 58, 'a': 2, 'o': 6, 'Q': 63, 'N': 52, 'D': 43, '.': 8, 'q': 38, 'L': 42, 's': 24, 'l': 10, '6': 19, 'd': 23, 'b': 13, 'T': 51, 'f': 17, 'M': 39, 'x': 36, 'I': 57, 'm': 3, 'U': 62, 'K': 46, '5': 20, '4': 15, 'P': 55, 'v': 34, 'C': 41, 'R': 49, 'y': 27, '0': 16, 'W': 59, 'c': 4, 'r': 18, 'i': 5, 'z': 35, '3': 25, ' ': 64, 't': 22, 'J': 45, 'G': 50, 'Y': 61, 'F': 53, '8': 21, 'k': 32, 'n': 14, '-': 7, 'j': 37, 'V': 56, 'H': 54, 'u': 29, 'p': 31}\n"
     ]
    }
   ],
   "source": [
    "tokenizer = keras.preprocessing.text.Tokenizer(filters='', char_level=True)\n",
    "tokenizer.fit_on_texts(X_data)\n",
    "print(tokenizer.word_index)"
   ]
  },
  {
   "cell_type": "code",
   "execution_count": 116,
   "metadata": {},
   "outputs": [
    {
     "name": "stdout",
     "output_type": "stream",
     "text": [
      "63cef988-0a79-4c71-895c-4dd1090d63d6\n",
      "[19, 25, 4, 1, 17, 11, 21, 21, 7, 16, 2, 26, 11, 7, 15, 4, 26, 12, 7, 21, 11, 20, 4, 7, 15, 23, 23, 12, 16, 11, 16, 23, 19, 25, 23, 19]\n",
      "65\n"
     ]
    }
   ],
   "source": [
    "X_tokens = tokenizer.texts_to_sequences(X_data)\n",
    "vocab_size = len(tokenizer.word_index.items())\n",
    "rev_word_index = {v:k for k, v in tokenizer.word_index.items()}\n",
    "def token_to_text(tokens):\n",
    "    return \"\".join([rev_word_index[tok] for tok in tokens])\n",
    "print(token_to_text(X_tokens[0]))   \n",
    "print((X_tokens[0]))\n",
    "print(vocab_size)"
   ]
  },
  {
   "cell_type": "code",
   "execution_count": 80,
   "metadata": {},
   "outputs": [
    {
     "name": "stdout",
     "output_type": "stream",
     "text": [
      "[ 1.  0.  0.]\n"
     ]
    }
   ],
   "source": [
    "num_classes=len(class_labels.keys())\n",
    "y_onehot = keras.utils.to_categorical(y_data, num_classes=num_classes)\n",
    "\n",
    "print(y_onehot[0])"
   ]
  },
  {
   "cell_type": "code",
   "execution_count": 82,
   "metadata": {},
   "outputs": [
    {
     "name": "stdout",
     "output_type": "stream",
     "text": [
      "36\n"
     ]
    }
   ],
   "source": [
    "mx_tokens = len(max(X_tokens, key=lambda x: len(x)))"
   ]
  },
  {
   "cell_type": "code",
   "execution_count": 83,
   "metadata": {},
   "outputs": [],
   "source": [
    "X_data_pad = keras.preprocessing.sequence.pad_sequences(X_tokens, maxlen=mx_tokens, padding='pre')"
   ]
  },
  {
   "cell_type": "code",
   "execution_count": 96,
   "metadata": {},
   "outputs": [
    {
     "name": "stdout",
     "output_type": "stream",
     "text": [
      "(14181, 36)\n",
      "(14181, 3)\n"
     ]
    }
   ],
   "source": [
    "print(X_data_pad.shape)\n",
    "print(y_onehot.shape)"
   ]
  },
  {
   "cell_type": "code",
   "execution_count": 111,
   "metadata": {},
   "outputs": [
    {
     "name": "stdout",
     "output_type": "stream",
     "text": [
      "(12762, 36) 12762 (1419, 36) 1419\n"
     ]
    }
   ],
   "source": [
    "from sklearn.model_selection import train_test_split\n",
    "\n",
    "test_ratio = 0.1\n",
    "y_data = np.array(y_data, dtype=np.int32)\n",
    "\n",
    "X_train, X_test, y_train, y_test = train_test_split(X_data_pad, y_onehot, test_size=test_ratio, stratify=y_data, shuffle=True, random_state=100)\n",
    "print(X_train.shape, len(y_train), X_test.shape, len(y_test))"
   ]
  },
  {
   "cell_type": "code",
   "execution_count": 114,
   "metadata": {},
   "outputs": [
    {
     "data": {
      "text/plain": [
       "(array([ 200.,    0.,    0.,    0.,    0.,  724.,    0.,    0.,    0.,  495.]),\n",
       " array([ 0. ,  0.2,  0.4,  0.6,  0.8,  1. ,  1.2,  1.4,  1.6,  1.8,  2. ]),\n",
       " <a list of 10 Patch objects>)"
      ]
     },
     "execution_count": 114,
     "metadata": {},
     "output_type": "execute_result"
    },
    {
     "data": {
      "image/png": "[encoded data removed]",
      "text/plain": [
       "<matplotlib.figure.Figure at 0x7feb11bf2978>"
      ]
     },
     "metadata": {},
     "output_type": "display_data"
    }
   ],
   "source": [
    "fig, (ax1, ax2) = plt.subplots(1, 2)\n",
    "ax1.hist(np.argmax(y_train, axis=1))\n",
    "ax2.hist(np.argmax(y_test, axis=1))"
   ]
  },
  {
   "cell_type": "code",
   "execution_count": 127,
   "metadata": {},
   "outputs": [
    {
     "name": "stdout",
     "output_type": "stream",
     "text": [
      "_________________________________________________________________\n",
      "Layer (type)                 Output Shape              Param #   \n",
      "=================================================================\n",
      "embedding (Embedding)        (None, 36, 8)             520       \n",
      "_________________________________________________________________\n",
      "conv1d_15 (Conv1D)           (None, 35, 64)            1088      \n",
      "_________________________________________________________________\n",
      "max_pooling1d_15 (MaxPooling (None, 17, 64)            0         \n",
      "_________________________________________________________________\n",
      "conv1d_16 (Conv1D)           (None, 16, 32)            4128      \n",
      "_________________________________________________________________\n",
      "max_pooling1d_16 (MaxPooling (None, 8, 32)             0         \n",
      "_________________________________________________________________\n",
      "flatten_1 (Flatten)          (None, 256)               0         \n",
      "_________________________________________________________________\n",
      "dense_11 (Dense)             (None, 32)                8224      \n",
      "_________________________________________________________________\n",
      "dense_12 (Dense)             (None, 3)                 99        \n",
      "=================================================================\n",
      "Total params: 14,059\n",
      "Trainable params: 14,059\n",
      "Non-trainable params: 0\n",
      "_________________________________________________________________\n"
     ]
    }
   ],
   "source": [
    "embedding_size = 8\n",
    "\n",
    "model = keras.models.Sequential()\n",
    "\n",
    "model.add(keras.layers.Embedding(input_dim=vocab_size, output_dim=embedding_size, input_length=mx_tokens, name=\"embedding\"))\n",
    "\n",
    "model.add(keras.layers.Conv1D(64, 2, activation='relu'))\n",
    "model.add(keras.layers.MaxPooling1D(2))\n",
    "\n",
    "model.add(keras.layers.Conv1D(32, 2, activation='relu'))\n",
    "model.add(keras.layers.MaxPooling1D(2))\n",
    "\n",
    "model.add(keras.layers.Flatten())\n",
    "\n",
    "model.add(keras.layers.Dense(32, activation='relu'))\n",
    "model.add(keras.layers.Dense(num_classes, activation='softmax'))\n",
    "\n",
    "optimizer = keras.optimizers.Adam(lr=1e-3)\n",
    "\n",
    "model.compile(optimizer=optimizer, loss='categorical_crossentropy', metrics=['accuracy', ])\n",
    "\n",
    "model.summary()"
   ]
  },
  {
   "cell_type": "code",
   "execution_count": 128,
   "metadata": {},
   "outputs": [
    {
     "name": "stdout",
     "output_type": "stream",
     "text": [
      "Epoch 1/3\n",
      "12762/12762 [==============================] - 14s 1ms/step - loss: 0.1267 - acc: 0.9481\n",
      "Epoch 2/3\n",
      "12762/12762 [==============================] - 1s 111us/step - loss: 8.5128e-04 - acc: 0.9999\n",
      "Epoch 3/3\n",
      "12762/12762 [==============================] - 1s 111us/step - loss: 3.5025e-04 - acc: 0.9999\n"
     ]
    },
    {
     "data": {
      "text/plain": [
       "<tensorflow.python.keras._impl.keras.callbacks.History at 0x7feb10941940>"
      ]
     },
     "execution_count": 128,
     "metadata": {},
     "output_type": "execute_result"
    }
   ],
   "source": [
    "epochs = 3\n",
    "batch_size = 32\n",
    "model.fit(X_train, y_train, batch_size=batch_size, epochs=epochs)"
   ]
  },
  {
   "cell_type": "code",
   "execution_count": 129,
   "metadata": {},
   "outputs": [
    {
     "name": "stdout",
     "output_type": "stream",
     "text": [
      "1419/1419 [==============================] - 0s 86us/step\n"
     ]
    },
    {
     "data": {
      "text/plain": [
       "[9.6634351325151137e-05, 1.0]"
      ]
     },
     "execution_count": 129,
     "metadata": {},
     "output_type": "execute_result"
    }
   ],
   "source": [
    "model.evaluate(X_test, y_test)"
   ]
  },
  {
   "cell_type": "code",
   "execution_count": null,
   "metadata": {},
   "outputs": [],
   "source": []
  }
 ],
 "metadata": {
  "kernelspec": {
   "display_name": "Python 3",
   "language": "python",
   "name": "python3"
  },
  "language_info": {
   "codemirror_mode": {
    "name": "ipython",
    "version": 3
   },
   "file_extension": ".py",
   "mimetype": "text/x-python",
   "name": "python",
   "nbconvert_exporter": "python",
   "pygments_lexer": "ipython3",
   "version": "3.5.2"
  },
  "widgets": {
   "state": {},
   "version": "1.1.2"
  }
 },
 "nbformat": 4,
 "nbformat_minor": 2
}
